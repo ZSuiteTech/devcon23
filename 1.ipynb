{
 "cells": [
  {
   "cell_type": "markdown",
   "metadata": {},
   "source": [
    "## Get to know the LLMS"
   ]
  },
  {
   "cell_type": "markdown",
   "metadata": {},
   "source": [
    "## The top dog\n",
    "\n",
    "Let's go play with ChatGPT, the top dog of LLMs\n",
    "\n",
    "Open [OpenAI](https://chat.openai.com)  (You will need to create and account or login)"
   ]
  },
  {
   "cell_type": "markdown",
   "metadata": {},
   "source": [
    "`Tell me a story about a company named ZSuite Tech with the mission, Make Corporate Banking Easier, worked with many banks and organizations to better manage their funds and the banks ultimately got so many net new deposits they could fund all the loans.`"
   ]
  },
  {
   "cell_type": "markdown",
   "metadata": {},
   "source": [
    "I took that same line and fed it to a number of AI's. "
   ]
  },
  {
   "cell_type": "markdown",
   "metadata": {},
   "source": [
    "* [OpenAI](https://chat.openai.com/share/2d71e2bb-1a23-4dbd-ae21-f36e919239b2)\n",
    "* [Cohere](https://dashboard.cohere.ai/playground/shared-preset?ref=devcon23-1.1-jp9w3r)\n",
    "* [Google Bard](https://g.co/bard/share/6434934c50bf)\n",
    "* [Perplexity](https://www.perplexity.ai/search/b4d005d8-c182-44d0-9af0-a5e941b36bd4?s=c)\n",
    "* Claude (Below)"
   ]
  },
  {
   "cell_type": "markdown",
   "metadata": {},
   "source": [
    "> Here is a fictional story about ZSuite Tech and its product ZEscrow:\n",
    "> \n",
    "> ZSuite Tech was a fintech startup founded in 2018 with the mission to make commercial banking easier. Its flagship product was ZEscrow, a digital escrow service that allowed companies to securely manage large transactions and payments. \n",
    "> \n",
    "> After launching ZEscrow, the company quickly gained traction among small and mid-sized businesses that needed to handle B2B payments, real estate deals, mergers and acquisitions, and other high-value transactions. By integrating with banks' existing systems, ZEscrow provided a seamless way for companies to set up escrow accounts, transfer funds, and manage multi-party financial agreements.\n",
    "> \n",
    "> Within a couple years, ZEscrow was being used by thousands of companies across industries like real estate, logistics, manufacturing, and more. This rapid adoption led many major banks to partner with ZSuite Tech to offer ZEscrow to their commercial customers as a value-added service. \n",
    "> \n",
    "> By 2022, hundreds of banks had integrated ZEscrow into their digital platforms. The huge influx of escrowed funds from ZEscrow customers allowed these banks to approve more loans and investments to grow their lending capabilities. \n",
    "> \n",
    "> In just four years, ZSuite Tech and ZEscrow had revolutionized commercial banking workflows. The increased liquidity and operational efficiency enabled banks to extend billions in new credit to businesses across the country. ZEscrow became an essential fintech service that accelerated economic growth by unlocking capital for all kinds of companies.\n",
    "> \n",
    "> ZSuite Tech's innovative escrow solutions showed how fintech and banks could work together to improve financial services. Its focus on user-friendly technology and mutually beneficial partnerships allowed both startups like itself and established institutions to flourish. By making commercial banking easier, ZSuite Tech lived up to its founding mission in a spectacular way."
   ]
  },
  {
   "cell_type": "markdown",
   "metadata": {},
   "source": [
    "Let's start a new chat with our LLMs."
   ]
  },
  {
   "cell_type": "markdown",
   "metadata": {},
   "source": [
    "`What is fednow?  When did it go live? What should I know about it as a fintech?`"
   ]
  },
  {
   "cell_type": "markdown",
   "metadata": {},
   "source": [
    "* [OpenAI](https://chat.openai.com/c/327501c5-a3d1-4ab7-a75f-27e089338c59)\n",
    "* [Cohere](https://dashboard.cohere.ai/playground/shared-preset?ref=devcon23-1.2-2abqkc)\n",
    "* [Google Bard](https://g.co/bard/share/18e4f33e9336)\n",
    "* [Perplexity](https://www.perplexity.ai/search/32cd9d15-2a5e-4963-a62b-1ad9cf9c13b6?s=c)\n",
    "* Claude (Below)"
   ]
  },
  {
   "cell_type": "markdown",
   "metadata": {},
   "source": [
    ">FedNow is the Federal Reserve's new real-time payment system that launched in August 2023. Here are some key details about FedNow:\n",
    ">\n",
    "> * FedNow allows financial institutions to clear and settle payments instantly, 24/7/365. Before FedNow, most payments took 1-3 business days to settle through the legacy Automated Clearing House (ACH) system.\n",
    ">\n",
    "> * The FedNow rollout began in August 2023, with the initial launch focused on testing and verifying functionality. Broad availability and participation is expected over the next couple years.\n",
    ">\n",
    "> * FedNow enables real-time transfer of funds between bank accounts, supporting use cases like instant bill pay, same-day payroll, and fast peer-to-peer transfers.\n",
    ">\n",
    "> * It uses ISO 20022 messaging standards and APIs to enable easy integration into bank systems and fintech applications. \n",
    ">\n",
    "> * Participation is voluntary for banks and payment services. Adoption will likely start with major banks and progressively spread over time.\n",
    ">\n",
    "> * Pricing has not been finalized yet, but FedNow transactions will likely carry a small per-transaction fee.\n",
    ">\n",
    "> * Key benefits for fintechs include faster settlement for payments products, improved liquidity management, and enabling new real-time applications.\n",
    ">\n",
    "> * Overall, FedNow modernizes U.S. payments infrastructure and brings it more in line with real-time systems in other countries. Fintechs should monitor adoption and work to integrate FedNow when it makes sense for their products and customers."
   ]
  },
  {
   "cell_type": "markdown",
   "metadata": {},
   "source": [
    "You can see the cutoff date in action in this exercise. \n",
    "\n",
    "Now let's get a little more interesting.\n",
    "\n"
   ]
  },
  {
   "cell_type": "markdown",
   "metadata": {},
   "source": [
    "`I want you to act as a python tutor. I am building an ai application to use internally within my company. Help me with python programming please.`\n",
    "\n",
    "then\n",
    "\n",
    "`I see the word async in the example code, what does it mean?`"
   ]
  },
  {
   "cell_type": "markdown",
   "metadata": {},
   "source": [
    "* [OpenAI](https://chat.openai.com/share/67a18cdf-724c-4317-bfea-38bea4c03bfc)\n",
    "* [Cohere](https://dashboard.cohere.ai/playground/shared-preset?ref=devcon23-1.3-5qrjzb)\n",
    "* [Google Bard](https://g.co/bard/share/8daafc503272)\n",
    "* [Perplexity](https://www.perplexity.ai/search/ff7be070-a408-4be8-854d-83fe620bc4b8?s=c)\n",
    "* Claude (Below)"
   ]
  },
  {
   "cell_type": "markdown",
   "metadata": {},
   "source": [
    "> Sounds good! Here are some tips for building an AI application in Python:\n",
    "> \n",
    "> - Use established Python machine learning libraries like Scikit-Learn, TensorFlow, PyTorch etc. They provide pre-trained models and tools to build and train ML models efficiently.\n",
    "> \n",
    "> - Structure your code into modules - for data processing, model training, prediction etc. This makes the code modular and maintainable.\n",
    "> \n",
    "> - Use virtual environments to manage dependencies and package versions. Tools like virtualenv, poetry, pipenv are great for this.\n",
    "> \n",
    "> - Write clean, well-commented code following PEP8 style guidelines. Use descriptive variable names and modular functions.\n",
    "> \n",
    "> - Handle errors and edge cases properly. Do validation and sanity checks on input data.\n",
    "> \n",
    "> - Write tests! Unit testing with pytest and integration/system testing will catch bugs and regressions. \n",
    "> \n",
    "> - Manage experiments carefully. Tracking model hyperparameters, metrics etc with MLflow or Weights & Biases helps evaluate models.\n",
    "> \n",
    "> - Containerize your model and application code using Docker for easy deployment and distribution.\n",
    "> \n",
    "> - For production, build in monitoring, logging and failure handling. Tools like Sentry can track errors in production.\n",
    "> \n",
    "> - Consider scale and optimizations for production usage. Things like model quantization, CPU/GPU optimizations, batch prediction etc.\n",
    "> \n",
    "> Let me know if you need any specific help or have additional questions! Happy to walk through code examples or debugging issues as well.\n",
    "\n",
    "\n",
    "> The async keyword in Python is used to mark a function as asynchronous.\n",
    "> \n",
    "> An asynchronous function is executed independently from the main program flow, allowing other code to run while the async function does its work. Async functions are useful for I/O-bound tasks like making API calls, reading/writing to disks, web scraping etc.\n",
    "> \n",
    "> Some key points about async functions:\n",
    "> \n",
    "> - They allow non-blocking concurrent execution by suspending execution while waiting on I/O. Control is returned to the event loop immediately after calling an async function.\n",
    "> \n",
    "> - Async functions are defined using async def. Normal def defines a regular blocking function.\n",
    "> \n",
    "> - When called, an async function returns a coroutine object that needs to be awaited.\n",
    "> \n",
    "> - Async functions can use await keyword to wait on Completion of another async function or task. \n",
    "> \n",
    "> - Async functionality needs to be wrapped in an event loop like asyncio. The loop runs the asynchronous tasks and callbacks.\n",
    "> \n",
    "> - Async io and multithreading both allow concurrency, but threads use more memory. Async io uses a single thread, but is non-blocking.\n",
    "> \n",
    "> So in summary, async/await in Python allow efficient concurrent execution by leveraging asynchronous functions and asyncio event loops. This provides high throughput and scalability for I/O-bound tasks."
   ]
  },
  {
   "cell_type": "markdown",
   "metadata": {},
   "source": [
    "## Questions?"
   ]
  },
  {
   "cell_type": "markdown",
   "metadata": {},
   "source": []
  }
 ],
 "metadata": {
  "language_info": {
   "name": "python"
  },
  "orig_nbformat": 4
 },
 "nbformat": 4,
 "nbformat_minor": 2
}
